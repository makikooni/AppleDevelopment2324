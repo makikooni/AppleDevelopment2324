{
  "nbformat": 4,
  "nbformat_minor": 0,
  "metadata": {
    "colab": {
      "provenance": [],
      "collapsed_sections": [
        "Cck4zwYrex02",
        "LkpwbQEVMys2",
        "jDxjvtEEM1vg",
        "7Jt6T3kJ8I2T"
      ],
      "include_colab_link": true
    },
    "kernelspec": {
      "name": "python3",
      "display_name": "Python 3"
    }
  },
  "cells": [
    {
      "cell_type": "markdown",
      "metadata": {
        "id": "view-in-github",
        "colab_type": "text"
      },
      "source": [
        "<a href=\"https://colab.research.google.com/github/makikooni/appleDevelopment2324/blob/main/ML_One_Python.ipynb\" target=\"_parent\"><img src=\"https://colab.research.google.com/assets/colab-badge.svg\" alt=\"Open In Colab\"/></a>"
      ]
    },
    {
      "cell_type": "markdown",
      "metadata": {
        "id": "zbJ2fw29OHAX"
      },
      "source": [
        "Notebook prepared by Mathieu Blondel.\n",
        "\n",
        "Minor modification by Xiaowan Yi."
      ]
    },
    {
      "cell_type": "markdown",
      "metadata": {
        "id": "JbVT11Y8CbAu"
      },
      "source": [
        "# Welcome"
      ]
    },
    {
      "cell_type": "markdown",
      "metadata": {
        "id": "kw1B2R_WCU7X"
      },
      "source": [
        "Welcome to the second practical work of the week! In this practical, we will learn about the programming language Python as well as NumPy, a fundamental tool for data science and machine learning in Python."
      ]
    },
    {
      "cell_type": "markdown",
      "metadata": {
        "id": "YV4sYCn8EPwb"
      },
      "source": [
        "# Notebooks"
      ]
    },
    {
      "cell_type": "markdown",
      "metadata": {
        "id": "2HuuwOcQEYQI"
      },
      "source": [
        "This week, we will use Jupyter notebooks and Google colab as the primary way to practice machine learning. Notebooks are a great way to mix executable code with rich contents (HTML, images, equations written in LaTeX). Colab allows to run notebooks on the cloud for free without any prior installation, while leveraging the power of [GPUs](https://en.wikipedia.org/wiki/Graphics_processing_unit)."
      ]
    },
    {
      "cell_type": "markdown",
      "metadata": {
        "id": "t0XmMkPuGGOs"
      },
      "source": [
        "The document that you are reading is not a static web page, but an interactive environment called a notebook, that lets you write and execute code. Notebooks consist of so-called code cells, blocks of one or more Python instructions. For example, here is a code cell that stores the result of a computation (the number of seconds in a day) in a variable and prints its value:"
      ]
    },
    {
      "cell_type": "code",
      "metadata": {
        "id": "qeGAvLq1ALJ4",
        "colab": {
          "base_uri": "https://localhost:8080/"
        },
        "outputId": "43f2800e-b872-44d6-d191-7fb6f8cb481b"
      },
      "source": [
        "seconds_in_a_day = 24 * 60 * 60\n",
        "seconds_in_a_day"
      ],
      "execution_count": null,
      "outputs": [
        {
          "output_type": "execute_result",
          "data": {
            "text/plain": [
              "86400"
            ]
          },
          "metadata": {},
          "execution_count": 2
        }
      ]
    },
    {
      "cell_type": "markdown",
      "metadata": {
        "id": "njoPs3q1G75-"
      },
      "source": [
        "Click on the \"play\" button to execute the cell. You should be able to see the result. Alternatively, you can also execute the cell by pressing Ctrl + Enter if you are on Windows / Linux or Command + Enter if you are on a Mac."
      ]
    },
    {
      "cell_type": "markdown",
      "metadata": {
        "id": "NvdYaBgHHdbw"
      },
      "source": [
        "Variables that you defined in one cell can later be used in other cells:"
      ]
    },
    {
      "cell_type": "code",
      "metadata": {
        "id": "s1kp5Zv0JBSx",
        "colab": {
          "base_uri": "https://localhost:8080/"
        },
        "outputId": "27016f23-a2d3-4b23-b10c-00639203e2fd"
      },
      "source": [
        "seconds_in_a_week = 7 * seconds_in_a_day\n",
        "seconds_in_a_week"
      ],
      "execution_count": null,
      "outputs": [
        {
          "output_type": "execute_result",
          "data": {
            "text/plain": [
              "604800"
            ]
          },
          "metadata": {},
          "execution_count": 3
        }
      ]
    },
    {
      "cell_type": "markdown",
      "metadata": {
        "id": "uALfY4q1JFQ0"
      },
      "source": [
        "Note that the order of execution is important. For instance, if we do not run the cell storing *seconds_in_a_day* beforehand, the above cell will raise an error, as it depends on this variable. To make sure that you run all the cells in the correct order, you can also click on \"Runtime\" in the top-level menu, then \"Run all\"."
      ]
    },
    {
      "cell_type": "markdown",
      "metadata": {
        "id": "HvXs_KaoRWQ9"
      },
      "source": [
        "**Exercise.** Add a cell below this cell: click on this cell then click on \"+ Code\". In the new cell, compute the number of seconds in a year by reusing the variable *seconds_in_a_day*. Run the new cell."
      ]
    },
    {
      "cell_type": "markdown",
      "metadata": {
        "id": "qyLSwlxnJqXX"
      },
      "source": [
        "# Python"
      ]
    },
    {
      "cell_type": "markdown",
      "metadata": {
        "id": "3ltwm91eJyQM"
      },
      "source": [
        "Python is one of the most popular programming languages for machine learning, both in academia and in industry. As such, it is essential to learn this language for anyone interested in machine learning. In this section, we will review Python basics."
      ]
    },
    {
      "cell_type": "markdown",
      "metadata": {
        "id": "3EKvP6jiMZ9H"
      },
      "source": [
        "## Arithmetic operations"
      ]
    },
    {
      "cell_type": "markdown",
      "metadata": {
        "id": "DDjs0-7YQ80h"
      },
      "source": [
        "Python supports the usual arithmetic operators: + (addition), * (multiplication), / (division), ** (power), // (integer division)."
      ]
    },
    {
      "cell_type": "code",
      "source": [
        "a_number = 3\n",
        "b_number = 100.0\n",
        "a_number + b_number\n"
      ],
      "metadata": {
        "colab": {
          "base_uri": "https://localhost:8080/"
        },
        "id": "5_-V9FOxMlC4",
        "outputId": "07f97841-18a4-49dd-be8e-995e2f755f56"
      },
      "execution_count": null,
      "outputs": [
        {
          "output_type": "execute_result",
          "data": {
            "text/plain": [
              "103.0"
            ]
          },
          "metadata": {},
          "execution_count": 2
        }
      ]
    },
    {
      "cell_type": "markdown",
      "metadata": {
        "id": "UhcbBQUiStHG"
      },
      "source": [
        "## Lists"
      ]
    },
    {
      "cell_type": "markdown",
      "metadata": {
        "id": "RkPn1IjNTCxA"
      },
      "source": [
        "Lists are a container type for ordered sequences of elements. Lists can be initialized empty"
      ]
    },
    {
      "cell_type": "code",
      "metadata": {
        "id": "OrnV1ySAPtHp"
      },
      "source": [
        "my_list = []"
      ],
      "execution_count": null,
      "outputs": []
    },
    {
      "cell_type": "markdown",
      "metadata": {
        "id": "OwRqyYI9XnPK"
      },
      "source": [
        "or with some initial elements"
      ]
    },
    {
      "cell_type": "code",
      "metadata": {
        "id": "Uq5YTJ1JXpOX"
      },
      "source": [
        "my_list = [a_number, 2, \"string haha\"]"
      ],
      "execution_count": null,
      "outputs": []
    },
    {
      "cell_type": "markdown",
      "metadata": {
        "id": "Hk2WmojJXyyz"
      },
      "source": [
        "Lists have a dynamic size and elements can be added (appended) to them"
      ]
    },
    {
      "cell_type": "code",
      "metadata": {
        "id": "QFTNqiYiXxAh",
        "colab": {
          "base_uri": "https://localhost:8080/"
        },
        "outputId": "013b5fcf-2b90-4539-cb63-5aed5777b7c0"
      },
      "source": [
        "my_list.append(4)\n",
        "my_list"
      ],
      "execution_count": null,
      "outputs": [
        {
          "output_type": "execute_result",
          "data": {
            "text/plain": [
              "[3, 2, 'string haha', 4]"
            ]
          },
          "metadata": {},
          "execution_count": 12
        }
      ]
    },
    {
      "cell_type": "markdown",
      "metadata": {
        "id": "IUnJuqQ2Yhzw"
      },
      "source": [
        "We can access individual elements of a list (indexing starts from 0)"
      ]
    },
    {
      "cell_type": "code",
      "metadata": {
        "id": "pyFxyZPVYpG_",
        "colab": {
          "base_uri": "https://localhost:8080/"
        },
        "outputId": "2e1f7cef-85d3-41ef-d149-6d7b0c806ceb"
      },
      "source": [
        "my_list[1]"
      ],
      "execution_count": null,
      "outputs": [
        {
          "output_type": "execute_result",
          "data": {
            "text/plain": [
              "2"
            ]
          },
          "metadata": {},
          "execution_count": 7
        }
      ]
    },
    {
      "cell_type": "markdown",
      "metadata": {
        "id": "hPMrIDYsdgMP"
      },
      "source": [
        "We can access \"slices\" of a list using `my_list[i:j]` where `i` is the start of the slice (again, indexing starts from 0) and `j` the end of the slice. For instance:"
      ]
    },
    {
      "cell_type": "code",
      "metadata": {
        "id": "Ichf9p0gd7tJ",
        "colab": {
          "base_uri": "https://localhost:8080/"
        },
        "outputId": "adcf04f2-9e9c-4b5e-b621-f363966f5218"
      },
      "source": [
        "my_list[1:3]"
      ],
      "execution_count": null,
      "outputs": [
        {
          "output_type": "execute_result",
          "data": {
            "text/plain": [
              "[2, 'string haha']"
            ]
          },
          "metadata": {},
          "execution_count": 14
        }
      ]
    },
    {
      "cell_type": "markdown",
      "metadata": {
        "id": "KMbzH4tzQ9rI"
      },
      "source": [
        "Omitting the second index means that the slice shoud run until the end of the list"
      ]
    },
    {
      "cell_type": "code",
      "metadata": {
        "id": "O7wCthKnREKV",
        "colab": {
          "base_uri": "https://localhost:8080/"
        },
        "outputId": "1f9db1f5-cf2f-4e67-c880-1854a33abc6b"
      },
      "source": [
        "my_list[1:]"
      ],
      "execution_count": null,
      "outputs": [
        {
          "output_type": "execute_result",
          "data": {
            "text/plain": [
              "[2, 'string haha', 4]"
            ]
          },
          "metadata": {},
          "execution_count": 15
        }
      ]
    },
    {
      "cell_type": "markdown",
      "metadata": {
        "id": "C5Aeu7PUebrK"
      },
      "source": [
        "We can check if an element is in the list using `in`"
      ]
    },
    {
      "cell_type": "code",
      "metadata": {
        "id": "a_P5NCi-efvb",
        "colab": {
          "base_uri": "https://localhost:8080/"
        },
        "outputId": "f4908716-f655-4a42-a34c-96f0bb1c5ef4"
      },
      "source": [
        "5 in my_list"
      ],
      "execution_count": null,
      "outputs": [
        {
          "output_type": "execute_result",
          "data": {
            "text/plain": [
              "False"
            ]
          },
          "metadata": {},
          "execution_count": 16
        }
      ]
    },
    {
      "cell_type": "markdown",
      "metadata": {
        "id": "LypIsP5gkl10"
      },
      "source": [
        "The length of a list can be obtained using the `len` function"
      ]
    },
    {
      "cell_type": "code",
      "metadata": {
        "id": "ac0FMsaKkrWc",
        "colab": {
          "base_uri": "https://localhost:8080/"
        },
        "outputId": "d3cb6679-3b6d-491e-cf12-2a2d18aae136"
      },
      "source": [
        "len(my_list)"
      ],
      "execution_count": null,
      "outputs": [
        {
          "output_type": "execute_result",
          "data": {
            "text/plain": [
              "4"
            ]
          },
          "metadata": {},
          "execution_count": 17
        }
      ]
    },
    {
      "cell_type": "markdown",
      "metadata": {
        "id": "1c3RLStf7G2I"
      },
      "source": [
        "## Strings"
      ]
    },
    {
      "cell_type": "markdown",
      "metadata": {
        "id": "Jm6hZhgz7KhI"
      },
      "source": [
        "Strings are used to store text. They can delimited using either single quotes or double quotes"
      ]
    },
    {
      "cell_type": "code",
      "metadata": {
        "id": "cCma6Oj_7T8n"
      },
      "source": [
        "string1 = \"some text\"\n",
        "string2 = 'some other text'"
      ],
      "execution_count": null,
      "outputs": []
    },
    {
      "cell_type": "markdown",
      "metadata": {
        "id": "Irr4xuWu7Znu"
      },
      "source": [
        "Strings behave similarly to lists. As such we can access individual elements in exactly the same way"
      ]
    },
    {
      "cell_type": "code",
      "metadata": {
        "id": "26_POhLO7iM3",
        "colab": {
          "base_uri": "https://localhost:8080/",
          "height": 35
        },
        "outputId": "05f1ff9d-f27a-4831-fca9-efbd7cae6f3f"
      },
      "source": [
        "string1[4]"
      ],
      "execution_count": null,
      "outputs": [
        {
          "output_type": "execute_result",
          "data": {
            "text/plain": [
              "' '"
            ],
            "application/vnd.google.colaboratory.intrinsic+json": {
              "type": "string"
            }
          },
          "metadata": {},
          "execution_count": 19
        }
      ]
    },
    {
      "cell_type": "markdown",
      "metadata": {
        "id": "oA_UD0JV7oPw"
      },
      "source": [
        "and similarly for slices"
      ]
    },
    {
      "cell_type": "code",
      "metadata": {
        "id": "dcZFcLqQ7qCe",
        "colab": {
          "base_uri": "https://localhost:8080/",
          "height": 35
        },
        "outputId": "aba6c437-ade3-49da-9e6a-9383eab01fa9"
      },
      "source": [
        "string1[5:]"
      ],
      "execution_count": null,
      "outputs": [
        {
          "output_type": "execute_result",
          "data": {
            "application/vnd.google.colaboratory.intrinsic+json": {
              "type": "string"
            },
            "text/plain": [
              "'text'"
            ]
          },
          "metadata": {
            "tags": []
          },
          "execution_count": 53
        }
      ]
    },
    {
      "cell_type": "markdown",
      "metadata": {
        "id": "hOQ_CIiu76YG"
      },
      "source": [
        "String concatenation is performed using the `+` operator"
      ]
    },
    {
      "cell_type": "code",
      "metadata": {
        "id": "mxqNMKCY79_W",
        "colab": {
          "base_uri": "https://localhost:8080/",
          "height": 35
        },
        "outputId": "e5695c9e-0703-49b3-9608-b57ca8375ba9"
      },
      "source": [
        "string1 + \" \" + string2"
      ],
      "execution_count": null,
      "outputs": [
        {
          "output_type": "execute_result",
          "data": {
            "application/vnd.google.colaboratory.intrinsic+json": {
              "type": "string"
            },
            "text/plain": [
              "'some text some other text'"
            ]
          },
          "metadata": {
            "tags": []
          },
          "execution_count": 55
        }
      ]
    },
    {
      "cell_type": "markdown",
      "metadata": {
        "id": "7Lox2GZCMdIB"
      },
      "source": [
        "## Conditionals"
      ]
    },
    {
      "cell_type": "markdown",
      "metadata": {
        "id": "-gXEAWFZfDTT"
      },
      "source": [
        "As their name indicates, conditionals are a way to execute code depending on whether a condition is True or False. As in other languages, Python supports `if` and `else` but `else if` is contracted into `elif`, as the example below demonstrates."
      ]
    },
    {
      "cell_type": "code",
      "metadata": {
        "id": "xC_DMZjofoYZ",
        "colab": {
          "base_uri": "https://localhost:8080/",
          "height": 34
        },
        "outputId": "e86016aa-0ebd-4e0f-e559-326f4b2ce644"
      },
      "source": [
        "my_variable = 5\n",
        "if my_variable < 0:\n",
        "  print(\"negative\")\n",
        "elif my_variable == 0:\n",
        "  print(\"null\")\n",
        "else: # my_variable > 0\n",
        "  print(\"positive\")"
      ],
      "execution_count": null,
      "outputs": [
        {
          "output_type": "stream",
          "text": [
            "positive\n"
          ],
          "name": "stdout"
        }
      ]
    },
    {
      "cell_type": "markdown",
      "metadata": {
        "id": "Ag0SUokSf9jl"
      },
      "source": [
        "Here `<` and `>` are the strict `less` and `greater than` operators, while `==` is the equality operator (not to be confused with `=`, the variable assignment operator). The operators `<=` and `>=` can be used for less (resp. greater) than or equal comparisons."
      ]
    },
    {
      "cell_type": "markdown",
      "metadata": {
        "id": "qTkQ2F_jy8wz"
      },
      "source": [
        "Contrary to other languages, blocks of code are delimited using indentation. Here, we use 2-space indentation but many programmers also use 4-space indentation. Any one is fine as long as you are consistent throughout your code."
      ]
    },
    {
      "cell_type": "markdown",
      "metadata": {
        "id": "clWaFCzBMfkv"
      },
      "source": [
        "## Loops"
      ]
    },
    {
      "cell_type": "markdown",
      "metadata": {
        "id": "_A5doqhTivWe"
      },
      "source": [
        "Loops are a way to execute a block of code multiple times. There are two main types of loops: while loops and for loops."
      ]
    },
    {
      "cell_type": "markdown",
      "metadata": {
        "id": "YN8lwTxQkGEa"
      },
      "source": [
        "While loop"
      ]
    },
    {
      "cell_type": "code",
      "metadata": {
        "id": "7-QXGqgOjsr_",
        "colab": {
          "base_uri": "https://localhost:8080/"
        },
        "outputId": "3066e0ad-be50-4900-fed9-5c031a4dab03"
      },
      "source": [
        "i = 0\n",
        "while i < len(my_list):\n",
        "  print(my_list[i])\n",
        "  i += 1 # equivalent to i = i + 1"
      ],
      "execution_count": null,
      "outputs": [
        {
          "output_type": "stream",
          "name": "stdout",
          "text": [
            "3\n",
            "2\n",
            "string haha\n",
            "4\n"
          ]
        }
      ]
    },
    {
      "cell_type": "markdown",
      "metadata": {
        "id": "8mEI_ocfkSvZ"
      },
      "source": [
        "For loop"
      ]
    },
    {
      "cell_type": "code",
      "metadata": {
        "id": "2QObx5mckMcI",
        "colab": {
          "base_uri": "https://localhost:8080/",
          "height": 85
        },
        "outputId": "32c31a79-ef89-4e80-9e76-47540f839cb6"
      },
      "source": [
        "for i in range(len(my_list)):\n",
        "  print(my_list[i])"
      ],
      "execution_count": null,
      "outputs": [
        {
          "output_type": "stream",
          "text": [
            "1\n",
            "2\n",
            "3\n",
            "4\n"
          ],
          "name": "stdout"
        }
      ]
    },
    {
      "cell_type": "markdown",
      "metadata": {
        "id": "XO6qqppikZvm"
      },
      "source": [
        "If the goal is simply to iterate over a list, we can do so directly as follows"
      ]
    },
    {
      "cell_type": "code",
      "metadata": {
        "id": "PjFKzN6zkeJ7",
        "colab": {
          "base_uri": "https://localhost:8080/"
        },
        "outputId": "9b3a506b-3fdb-4944-85ae-b8792d6ab853"
      },
      "source": [
        "for element in my_list:\n",
        "  print(element)"
      ],
      "execution_count": null,
      "outputs": [
        {
          "output_type": "stream",
          "name": "stdout",
          "text": [
            "3\n",
            "2\n",
            "string haha\n",
            "4\n"
          ]
        }
      ]
    },
    {
      "cell_type": "markdown",
      "metadata": {
        "id": "Cck4zwYrex02"
      },
      "source": [
        "## Functions (week 5)"
      ]
    },
    {
      "cell_type": "markdown",
      "metadata": {
        "id": "n1PbIf_ohxFO"
      },
      "source": [
        "To improve code readability, it is common to separate the code into different blocks, responsible for performing precise actions: functions. A function takes some inputs and process them to return some outputs."
      ]
    },
    {
      "cell_type": "code",
      "metadata": {
        "id": "cImA09gOhRmx",
        "colab": {
          "base_uri": "https://localhost:8080/",
          "height": 34
        },
        "outputId": "85834282-56d6-4c17-f188-433f46c50d21"
      },
      "source": [
        "def square(x):\n",
        "  return x ** 2\n",
        "\n",
        "def multiply(a, b):\n",
        "  return a * b\n",
        "\n",
        "# Functions can be composed.\n",
        "square(multiply(3, 2))"
      ],
      "execution_count": null,
      "outputs": [
        {
          "output_type": "execute_result",
          "data": {
            "text/plain": [
              "36"
            ]
          },
          "metadata": {
            "tags": []
          },
          "execution_count": 17
        }
      ]
    },
    {
      "cell_type": "markdown",
      "metadata": {
        "id": "75-5SOk9iYSt"
      },
      "source": [
        "To improve code readability, it is sometimes useful to explicitly name the arguments"
      ]
    },
    {
      "cell_type": "code",
      "metadata": {
        "id": "wkIUuZHhidI0",
        "colab": {
          "base_uri": "https://localhost:8080/",
          "height": 34
        },
        "outputId": "acb68380-db78-491c-ce27-8a4664f78ce5"
      },
      "source": [
        "square(multiply(a=3, b=2))"
      ],
      "execution_count": null,
      "outputs": [
        {
          "output_type": "execute_result",
          "data": {
            "text/plain": [
              "36"
            ]
          },
          "metadata": {
            "tags": []
          },
          "execution_count": 18
        }
      ]
    },
    {
      "cell_type": "markdown",
      "metadata": {
        "id": "LkpwbQEVMys2"
      },
      "source": [
        "## Exercises (week 5)"
      ]
    },
    {
      "cell_type": "markdown",
      "metadata": {
        "id": "ASpVhol9ZXI0"
      },
      "source": [
        "**Exercise 1.** Using a conditional, write the [relu](https://en.wikipedia.org/wiki/Rectifier_(neural_networks)) function defined as follows\n",
        "\n",
        "$\\text{relu}(x) = \\left\\{\n",
        "   \\begin{array}{rl}\n",
        "     x, & \\text{if }  x \\ge 0 \\\\\n",
        "     0, & \\text{otherwise }.\n",
        "   \\end{array}\\right.$"
      ]
    },
    {
      "cell_type": "code",
      "metadata": {
        "id": "jlgyu65SaUvr"
      },
      "source": [
        "def relu(x):\n",
        "  # Write your function here\n",
        "  return\n",
        "\n",
        "relu(-3)"
      ],
      "execution_count": null,
      "outputs": []
    },
    {
      "cell_type": "markdown",
      "metadata": {
        "id": "Y3so0ceoakIw"
      },
      "source": [
        "**Exercise 2.** Using a foor loop, write a function that computes the [Euclidean norm](https://en.wikipedia.org/wiki/Norm_(mathematics)#Euclidean_norm) of a vector, represented as a list."
      ]
    },
    {
      "cell_type": "code",
      "metadata": {
        "id": "-IH-BD41bI1u",
        "colab": {
          "base_uri": "https://localhost:8080/",
          "height": 34
        },
        "outputId": "f45bf668-d55b-494d-ecd7-2f421cbacf15"
      },
      "source": [
        "def euclidean_norm(vector):\n",
        "  # Write your function here\n",
        "  return\n",
        "\n",
        "import numpy as np\n",
        "my_vector = [0.5, -1.2, 3.3, 4.5]\n",
        "# The result should be roughly 5.729746940310715\n",
        "euclidean_norm(my_vector)"
      ],
      "execution_count": null,
      "outputs": [
        {
          "output_type": "execute_result",
          "data": {
            "text/plain": [
              "5.729746940310715"
            ]
          },
          "metadata": {
            "tags": []
          },
          "execution_count": 13
        }
      ]
    },
    {
      "cell_type": "markdown",
      "metadata": {
        "id": "SEXIh_e9cW3S"
      },
      "source": [
        "**Exercise 3.** Using a for loop and a conditional, write a function that returns the maximum value in a vector."
      ]
    },
    {
      "cell_type": "code",
      "metadata": {
        "id": "zd9ntMq0cb2e"
      },
      "source": [
        "def vector_maximum(vector):\n",
        "  # Write your function here\n",
        "  return"
      ],
      "execution_count": null,
      "outputs": []
    },
    {
      "cell_type": "markdown",
      "metadata": {
        "id": "qPAZA4OMc6sT"
      },
      "source": [
        "**Bonus exercise.** if time permits, write a function that sorts a list in ascending order (from smaller to bigger) using the [bubble sort](https://en.wikipedia.org/wiki/Bubble_sort) algorithm."
      ]
    },
    {
      "cell_type": "code",
      "metadata": {
        "id": "sBokdJO4dGyf"
      },
      "source": [
        "def bubble_sort(my_list):\n",
        "  # Write your function here\n",
        "  return\n",
        "\n",
        "my_list = [1, -3, 3, 2]\n",
        "# Should return [-3, 1, 2, 3]\n",
        "bubble_sort(my_list)"
      ],
      "execution_count": null,
      "outputs": []
    },
    {
      "cell_type": "markdown",
      "metadata": {
        "id": "jDxjvtEEM1vg"
      },
      "source": [
        "## Going further"
      ]
    },
    {
      "cell_type": "markdown",
      "metadata": {
        "id": "wRkmvzf-PdEp"
      },
      "source": [
        "Clearly, it is impossible to cover all the language features in this short introduction. To go further, we recommend the following resources:"
      ]
    },
    {
      "cell_type": "markdown",
      "metadata": {
        "id": "n8nbPoWclRlH"
      },
      "source": [
        "\n",
        "\n",
        "*   List of Python [tutorials](https://wiki.python.org/moin/BeginnersGuide/Programmers)\n",
        "* Four-hour [course](https://www.youtube.com/watch?v=rfscVS0vtbw) on Youtube\n",
        "\n"
      ]
    },
    {
      "cell_type": "markdown",
      "metadata": {
        "id": "6X4WJo3iM6m9"
      },
      "source": [
        "# NumPy"
      ]
    },
    {
      "cell_type": "markdown",
      "metadata": {
        "id": "_H3bNbLloXCY"
      },
      "source": [
        "NumPy is a popular library for storing arrays of numbers and performing computations on them. Not only this enables to write often more succint code, this also makes the code faster, since most NumPy routines are implemented in C for speed."
      ]
    },
    {
      "cell_type": "markdown",
      "metadata": {
        "id": "M7tI3XLhqwSX"
      },
      "source": [
        "To use NumPy in your program, you need to import it as follows"
      ]
    },
    {
      "cell_type": "code",
      "metadata": {
        "id": "phSPPyfyq2gX"
      },
      "source": [
        "import numpy as np"
      ],
      "execution_count": null,
      "outputs": []
    },
    {
      "cell_type": "markdown",
      "source": [
        "Every \"np\" you will find in following cells refers to the imported numpy library.\n",
        "\n",
        "Methods (aka functionalities) provided by numpy can then be called using the syntax\n",
        "\n",
        " np.NameOfTheMethod()\n",
        "\n",
        "just like the one you are about to see in the following cell:\n",
        "\n",
        " np.array()\n",
        "\n",
        "\n",
        "(check https://numpy.org/doc/stable/user/quickstart.html for list of numpy methods)"
      ],
      "metadata": {
        "id": "E_cUQX3eZ8hN"
      }
    },
    {
      "cell_type": "markdown",
      "metadata": {
        "id": "9secCfFLNHEE"
      },
      "source": [
        "## Numpy array\n",
        "\n"
      ]
    },
    {
      "cell_type": "markdown",
      "source": [
        "#### Vectors\n",
        "\n",
        "The most basic data structure in `numpy` is a vector, or array.\n",
        "NumPy arrays can be created from Python lists.\n",
        "So for example, to represent the vector $v = \\begin{bmatrix} 1 \\\\ -5 \\\\ 3 \\end{bmatrix}$, we would write:"
      ],
      "metadata": {
        "id": "ZgUa8LobkJXL"
      }
    },
    {
      "cell_type": "code",
      "source": [
        "v = np.array([1, -5, 3])\n",
        "print(type(v))"
      ],
      "metadata": {
        "colab": {
          "base_uri": "https://localhost:8080/"
        },
        "id": "rZSeAxKgkI7l",
        "outputId": "b676b279-ec0e-4eda-eef6-985862b68ece"
      },
      "execution_count": null,
      "outputs": [
        {
          "output_type": "stream",
          "name": "stdout",
          "text": [
            "<class 'numpy.ndarray'>\n"
          ]
        }
      ]
    },
    {
      "cell_type": "markdown",
      "metadata": {
        "id": "Sy2EvrxFriAG"
      },
      "source": [
        "#### Matrices\n",
        "\n",
        "NumPy supports array of arbitrary dimension. For example, we can create two-dimensional arrays (e.g. to store a matrix) as follows\n",
        "\n",
        "$mat = \\begin{bmatrix} 1 & 2 & 3\\\\ 4 & 5 & 6\\end{bmatrix}$"
      ]
    },
    {
      "cell_type": "code",
      "metadata": {
        "id": "wM-GYVMsrzNs",
        "colab": {
          "base_uri": "https://localhost:8080/"
        },
        "outputId": "f29236ad-88c9-4d9f-a9e0-b93420cee53c"
      },
      "source": [
        "my_2d_array = np.array([[1, 2, 3], [4, 5, 6]])\n",
        "my_2d_array"
      ],
      "execution_count": null,
      "outputs": [
        {
          "output_type": "execute_result",
          "data": {
            "text/plain": [
              "array([[1, 2, 3],\n",
              "       [4, 5, 6]])"
            ]
          },
          "metadata": {},
          "execution_count": 11
        }
      ]
    },
    {
      "cell_type": "markdown",
      "metadata": {
        "id": "-kZMzYsAsVAc"
      },
      "source": [
        "We can access individual elements of a matrix(2d-array) using two indices"
      ]
    },
    {
      "cell_type": "code",
      "metadata": {
        "id": "4q8X86BbscPd",
        "colab": {
          "base_uri": "https://localhost:8080/",
          "height": 34
        },
        "outputId": "3cefe32a-690a-4744-fad9-9c3edd763cd6"
      },
      "source": [
        "my_2d_array[1, 2]"
      ],
      "execution_count": null,
      "outputs": [
        {
          "output_type": "execute_result",
          "data": {
            "text/plain": [
              "6"
            ]
          },
          "metadata": {
            "tags": []
          },
          "execution_count": 30
        }
      ]
    },
    {
      "cell_type": "markdown",
      "metadata": {
        "id": "OfVIKyxkTh0p"
      },
      "source": [
        "We can also access rows"
      ]
    },
    {
      "cell_type": "code",
      "metadata": {
        "id": "CrKnDAtyTlYe",
        "colab": {
          "base_uri": "https://localhost:8080/",
          "height": 34
        },
        "outputId": "14060c28-8ee7-48f5-f0ca-bdcff12cc421"
      },
      "source": [
        "my_2d_array[1]"
      ],
      "execution_count": null,
      "outputs": [
        {
          "output_type": "execute_result",
          "data": {
            "text/plain": [
              "array([4, 5, 6])"
            ]
          },
          "metadata": {
            "tags": []
          },
          "execution_count": 66
        }
      ]
    },
    {
      "cell_type": "markdown",
      "metadata": {
        "id": "hskLBCp9ToCG"
      },
      "source": [
        "and columns"
      ]
    },
    {
      "cell_type": "code",
      "metadata": {
        "id": "MOOFsLHhTozX",
        "colab": {
          "base_uri": "https://localhost:8080/",
          "height": 34
        },
        "outputId": "8802a59a-0812-40a4-f930-ab2a3302bf46"
      },
      "source": [
        "my_2d_array[:, 2]"
      ],
      "execution_count": null,
      "outputs": [
        {
          "output_type": "execute_result",
          "data": {
            "text/plain": [
              "array([3, 6])"
            ]
          },
          "metadata": {
            "tags": []
          },
          "execution_count": 67
        }
      ]
    },
    {
      "cell_type": "markdown",
      "metadata": {
        "id": "keWK_5PHr9Q2"
      },
      "source": [
        "Arrays have a `shape` attribute"
      ]
    },
    {
      "cell_type": "code",
      "metadata": {
        "id": "5QIo7l1Yr8m7",
        "colab": {
          "base_uri": "https://localhost:8080/"
        },
        "outputId": "85f705ea-ae20-4d24-bb65-19479eb8b8c6"
      },
      "source": [
        "# print(my_array.shape)\n",
        "print(my_2d_array.shape)"
      ],
      "execution_count": null,
      "outputs": [
        {
          "output_type": "stream",
          "name": "stdout",
          "text": [
            "(2, 3)\n"
          ]
        }
      ]
    },
    {
      "cell_type": "markdown",
      "source": [
        "#### Addition\n",
        "\n",
        "When two vectors of equal length are added, the elements are added point-wise.\n",
        "\n",
        "$$\n",
        "\\begin{bmatrix} 2 \\\\ 3 \\\\ 1 \\end{bmatrix} + \\begin{bmatrix} 0 \\\\ 2 \\\\ -2 \\end{bmatrix} = \\begin{bmatrix} 2 \\\\ 5 \\\\ -1 \\end{bmatrix}\n",
        "$$"
      ],
      "metadata": {
        "id": "uxBrQ8e_lYGD"
      }
    },
    {
      "cell_type": "code",
      "source": [
        "a = np.array([2, 3, 1])\n",
        "b = np.array([0, 2, -2])\n",
        "c = a + b\n",
        "print(c)"
      ],
      "metadata": {
        "colab": {
          "base_uri": "https://localhost:8080/"
        },
        "id": "VrLIu8bFlcUp",
        "outputId": "f4735e49-6820-4bd8-a15b-0af23b0e4164"
      },
      "execution_count": null,
      "outputs": [
        {
          "output_type": "stream",
          "name": "stdout",
          "text": [
            "[ 2  5 -1]\n"
          ]
        }
      ]
    },
    {
      "cell_type": "markdown",
      "source": [
        "Same with matrices: when two matrices of equal length are added, the elements are added element-wise.\n",
        "\n",
        "$$\n",
        "\\begin{bmatrix} 2 & 1 & 1\\\\ 3 & 0 & 1 \\\\ 1 & 1 &1 \\end{bmatrix} + \\begin{bmatrix} 0 & 0 & 0\\\\ 0 & 2 & -1 \\\\ -2& 0 & 1 \\end{bmatrix} = \\begin{bmatrix} 2 & 1 & 1\\\\ 3 & 2 & 0 \\\\ -1 & 1 & 2 \\end{bmatrix}\n",
        "$$"
      ],
      "metadata": {
        "id": "8lX2_BOjlpCi"
      }
    },
    {
      "cell_type": "code",
      "source": [
        "a = np.array([[2, 1, 1], [3, 0, 1], [1, 1, 1]])\n",
        "b = np.array([[0, 0, 0], [0, 2, -1], [-2, 0, 1]])\n",
        "c = a + b\n",
        "print(c)"
      ],
      "metadata": {
        "colab": {
          "base_uri": "https://localhost:8080/"
        },
        "id": "gMyOayfhmCBt",
        "outputId": "97f3374a-a944-420c-c2db-5b37fdb1c247"
      },
      "execution_count": null,
      "outputs": [
        {
          "output_type": "stream",
          "name": "stdout",
          "text": [
            "[[ 2  1  1]\n",
            " [ 3  2  0]\n",
            " [-1  1  2]]\n"
          ]
        }
      ]
    },
    {
      "cell_type": "markdown",
      "source": [
        "#### Data types in NumPy arrays"
      ],
      "metadata": {
        "id": "ziulinXXlhDi"
      }
    },
    {
      "cell_type": "markdown",
      "metadata": {
        "id": "LmX0EDWVsoDY"
      },
      "source": [
        "Contrary to Python lists, NumPy arrays must have a type and all elements of the array must have the same type."
      ]
    },
    {
      "cell_type": "code",
      "metadata": {
        "id": "FZjOowkls57o",
        "colab": {
          "base_uri": "https://localhost:8080/",
          "height": 34
        },
        "outputId": "abb3edab-a903-40c8-f88a-1125fc6d4dbf"
      },
      "source": [
        "my_array.dtype"
      ],
      "execution_count": null,
      "outputs": [
        {
          "output_type": "execute_result",
          "data": {
            "text/plain": [
              "dtype('int64')"
            ]
          },
          "metadata": {
            "tags": []
          },
          "execution_count": 31
        }
      ]
    },
    {
      "cell_type": "markdown",
      "metadata": {
        "id": "i5AvLdf7tGnZ"
      },
      "source": [
        "The main types are `int32` (32-bit integers), `int64` (64-bit integers), `float32` (32-bit real values) and `float64` (64-bit real values)."
      ]
    },
    {
      "cell_type": "markdown",
      "metadata": {
        "id": "w8ym2qZCt9Nm"
      },
      "source": [
        "The `dtype` can be specified when creating the array"
      ]
    },
    {
      "cell_type": "code",
      "metadata": {
        "id": "gXpM_FqruCVv",
        "colab": {
          "base_uri": "https://localhost:8080/",
          "height": 34
        },
        "outputId": "20d8b981-56ed-4458-d9d8-2f9fb5fb2b58"
      },
      "source": [
        "my_array = np.array([1, 2, 3], dtype=np.float64)\n",
        "my_array.dtype"
      ],
      "execution_count": null,
      "outputs": [
        {
          "output_type": "execute_result",
          "data": {
            "text/plain": [
              "dtype('float64')"
            ]
          },
          "metadata": {
            "tags": []
          },
          "execution_count": 32
        }
      ]
    },
    {
      "cell_type": "markdown",
      "source": [
        "#### NumPy arrays of all zeros"
      ],
      "metadata": {
        "id": "DBxIVEismell"
      }
    },
    {
      "cell_type": "markdown",
      "metadata": {
        "id": "WueaRIONuTdS"
      },
      "source": [
        "We can create arrays of all zeros using"
      ]
    },
    {
      "cell_type": "code",
      "metadata": {
        "id": "jbD8N1UauK8r",
        "colab": {
          "base_uri": "https://localhost:8080/",
          "height": 51
        },
        "outputId": "4a352f81-f0e8-4bc1-a651-760436c7d213"
      },
      "source": [
        "zero_array = np.zeros((2, 3))\n",
        "zero_array"
      ],
      "execution_count": null,
      "outputs": [
        {
          "output_type": "execute_result",
          "data": {
            "text/plain": [
              "array([[0., 0., 0.],\n",
              "       [0., 0., 0.]])"
            ]
          },
          "metadata": {
            "tags": []
          },
          "execution_count": 33
        }
      ]
    },
    {
      "cell_type": "markdown",
      "metadata": {
        "id": "vn5go6qoudo4"
      },
      "source": [
        "and similarly for all ones using `ones` instead of `zeros`."
      ]
    },
    {
      "cell_type": "markdown",
      "source": [
        "#### Create NumPy arrays with a range of values"
      ],
      "metadata": {
        "id": "eTCGf9kSmj8D"
      }
    },
    {
      "cell_type": "markdown",
      "metadata": {
        "id": "1kCRlhLJuvZ6"
      },
      "source": [
        "We can create a range of values using"
      ]
    },
    {
      "cell_type": "code",
      "metadata": {
        "id": "EcQXDeEmuxpO",
        "colab": {
          "base_uri": "https://localhost:8080/",
          "height": 34
        },
        "outputId": "5a6fac79-26e3-4012-d5f4-82844372dc58"
      },
      "source": [
        "np.arange(5)"
      ],
      "execution_count": null,
      "outputs": [
        {
          "output_type": "execute_result",
          "data": {
            "text/plain": [
              "array([0, 1, 2, 3, 4])"
            ]
          },
          "metadata": {
            "tags": []
          },
          "execution_count": 34
        }
      ]
    },
    {
      "cell_type": "markdown",
      "metadata": {
        "id": "ZvJECk6Iu3uF"
      },
      "source": [
        "or specifying the starting point"
      ]
    },
    {
      "cell_type": "code",
      "metadata": {
        "id": "Pk3UzL3du_f8",
        "colab": {
          "base_uri": "https://localhost:8080/",
          "height": 34
        },
        "outputId": "1fd3f3fa-63ba-4a26-9274-011574bebbd2"
      },
      "source": [
        "np.arange(3, 5)"
      ],
      "execution_count": null,
      "outputs": [
        {
          "output_type": "execute_result",
          "data": {
            "text/plain": [
              "array([3, 4])"
            ]
          },
          "metadata": {
            "tags": []
          },
          "execution_count": 35
        }
      ]
    },
    {
      "cell_type": "markdown",
      "metadata": {
        "id": "f1JtqFSivJKG"
      },
      "source": [
        "Another useful routine is `linspace` for creating linearly spaced values in an interval. For instance, to create 10 values in `[0, 1]`, we can use"
      ]
    },
    {
      "cell_type": "code",
      "metadata": {
        "id": "udHHjGAHvOQM",
        "colab": {
          "base_uri": "https://localhost:8080/",
          "height": 51
        },
        "outputId": "473cec27-ac56-4dc9-984a-c1e340255a51"
      },
      "source": [
        "np.linspace(0, 1, 10)"
      ],
      "execution_count": null,
      "outputs": [
        {
          "output_type": "execute_result",
          "data": {
            "text/plain": [
              "array([0.        , 0.11111111, 0.22222222, 0.33333333, 0.44444444,\n",
              "       0.55555556, 0.66666667, 0.77777778, 0.88888889, 1.        ])"
            ]
          },
          "metadata": {
            "tags": []
          },
          "execution_count": 36
        }
      ]
    },
    {
      "cell_type": "markdown",
      "source": [
        "#### Read an image into a NumPy array !"
      ],
      "metadata": {
        "id": "9Ehj_u5qnHpQ"
      }
    },
    {
      "cell_type": "code",
      "source": [
        "# import Image from PIL (another library) for reading image\n",
        "import PIL as pil\n",
        "from IPython.display import Audio, Image\n",
        "# import this to help fetching image from a url\n",
        "import urllib.request"
      ],
      "metadata": {
        "id": "oBdTN4dxnnLw"
      },
      "execution_count": null,
      "outputs": []
    },
    {
      "cell_type": "code",
      "source": [
        "# I'm using an image from the internet (retrieving from a url), alternatively you can use image from your laptop\n",
        "urllib.request.urlretrieve('data:image/jpeg;base64,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', 'lemon.jpeg')\n",
        "image = pil.Image.open('lemon.jpeg')\n"
      ],
      "metadata": {
        "id": "FElSS-YVnopE"
      },
      "execution_count": null,
      "outputs": []
    },
    {
      "cell_type": "code",
      "source": [
        "# display the raw image\n",
        "display(Image('lemon.jpeg'))"
      ],
      "metadata": {
        "colab": {
          "base_uri": "https://localhost:8080/",
          "height": 164
        },
        "id": "qqfOxs1gqyW3",
        "outputId": "f5747ef0-d4da-45e1-851a-2e3d3d46ce21"
      },
      "execution_count": null,
      "outputs": [
        {
          "output_type": "display_data",
          "data": {
            "image/jpeg": "[encoded data removed]",
            "text/plain": [
              "<IPython.core.display.Image object>"
            ]
          },
          "metadata": {}
        }
      ]
    },
    {
      "cell_type": "code",
      "source": [
        "# this is the one liner that relates to today's lecture: convert image to numpy array\n",
        "image_converted_to_array = np.asarray(image)"
      ],
      "metadata": {
        "id": "2GAToPDJrHtc"
      },
      "execution_count": null,
      "outputs": []
    },
    {
      "cell_type": "code",
      "source": [
        "#print out the shape of the image array\n",
        "print(image_converted_to_array.shape)"
      ],
      "metadata": {
        "colab": {
          "base_uri": "https://localhost:8080/"
        },
        "id": "QPU8udyQp732",
        "outputId": "5baa6bc9-f89d-40ab-89d5-4dc4f1a9ca87"
      },
      "execution_count": null,
      "outputs": [
        {
          "output_type": "stream",
          "name": "stdout",
          "text": [
            "(147, 220, 3)\n"
          ]
        }
      ]
    },
    {
      "cell_type": "code",
      "source": [
        "#check the data type in the converted numpy array\n",
        "print(image_converted_to_array.dtype)"
      ],
      "metadata": {
        "colab": {
          "base_uri": "https://localhost:8080/"
        },
        "id": "hj10A4f3syqG",
        "outputId": "f1003197-d11b-4060-dcf7-cb414d8cb1bd"
      },
      "execution_count": null,
      "outputs": [
        {
          "output_type": "stream",
          "name": "stdout",
          "text": [
            "uint8\n"
          ]
        }
      ]
    },
    {
      "cell_type": "code",
      "source": [
        "# print out the numbers in the image matrix\n",
        "print(image_converted_to_array)"
      ],
      "metadata": {
        "id": "Up2UQVWsp7sE"
      },
      "execution_count": null,
      "outputs": []
    },
    {
      "cell_type": "markdown",
      "source": [
        "#### What happens to the image if we divide the numbers in the NumPy array by half? (optional)"
      ],
      "metadata": {
        "id": "oCvMABYTti-T"
      }
    },
    {
      "cell_type": "code",
      "source": [
        "#use /2 to divide all numbers in a numpy array by half\n",
        "darker_image = image_converted_to_array * 1.5\n",
        "#convert numpy array back to the image format\n",
        "image2 = pil.Image.fromarray(darker_image.astype(np.uint8))\n",
        "display(image2)"
      ],
      "metadata": {
        "colab": {
          "base_uri": "https://localhost:8080/",
          "height": 164
        },
        "id": "x5AMq-HVreM2",
        "outputId": "db6e2236-c406-449c-e638-cee8205538e4"
      },
      "execution_count": null,
      "outputs": [
        {
          "output_type": "display_data",
          "data": {
            "text/plain": [
              "<PIL.Image.Image image mode=RGB size=220x147>"
            ],
            "image/png": "[encoded data removed]"
          },
          "metadata": {}
        }
      ]
    },
    {
      "cell_type": "markdown",
      "source": [
        "#### Generate an audio from NumPy array !"
      ],
      "metadata": {
        "id": "X-0cet55nOpI"
      }
    },
    {
      "cell_type": "code",
      "source": [
        "# Here we use np.sin() to generate a sine wave tone\n",
        "sine_wave_array = np.sin(np.linspace(0, 1000, 10000))\n",
        "sine_wave_array2 = np.sin(np.linspace(0, 5555, 10000))\n",
        "print(sine_wave_array)"
      ],
      "metadata": {
        "colab": {
          "base_uri": "https://localhost:8080/"
        },
        "id": "wl2LS8EEv6Si",
        "outputId": "60a6a9ef-aaba-48db-d31b-414f1caee2ed"
      },
      "execution_count": null,
      "outputs": [
        {
          "output_type": "stream",
          "name": "stdout",
          "text": [
            "[0.         0.09984337 0.19868893 ... 0.69865522 0.76659794 0.82687954]\n"
          ]
        }
      ]
    },
    {
      "cell_type": "code",
      "source": [
        "# Let's visualize this vector (only its first 60 numbers)!\n",
        "# with some extra help from another common library for plotting data\n",
        "import matplotlib.pyplot as plt\n",
        "plt.scatter(np.arange(60),sine_wave_array[:60] )\n",
        "plt.show()\n"
      ],
      "metadata": {
        "colab": {
          "base_uri": "https://localhost:8080/",
          "height": 430
        },
        "id": "TP1JeylBzPwj",
        "outputId": "4db97c87-70d6-44ba-a67d-ff94330316b0"
      },
      "execution_count": null,
      "outputs": [
        {
          "output_type": "display_data",
          "data": {
            "text/plain": [
              "<Figure size 640x480 with 1 Axes>"
            ],
            "image/png": "[encoded data removed]"
          },
          "metadata": {}
        }
      ]
    },
    {
      "cell_type": "code",
      "source": [
        "# Give it a listen!\n",
        "Audio(0.5* sine_wave_array + sine_wave_array2, rate=10000)"
      ],
      "metadata": {
        "colab": {
          "base_uri": "https://localhost:8080/",
          "height": 75
        },
        "id": "Qv1Jo3Z-y_LI",
        "outputId": "59e429ee-9109-4e83-fbf5-8a04d373c35c"
      },
      "execution_count": null,
      "outputs": [
        {
          "output_type": "execute_result",
          "data": {
            "text/plain": [
              "<IPython.lib.display.Audio object>"
            ],
            "text/html": [
              "\n",
              "                <audio  controls=\"controls\" >\n",
              "                    <source src=\"data:audio/wav;base64,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\" type=\"audio/wav\" />\n",
              "                    Your browser does not support the audio element.\n",
              "                </audio>\n",
              "              "
            ]
          },
          "metadata": {},
          "execution_count": 31
        }
      ]
    },
    {
      "cell_type": "markdown",
      "source": [
        "#### Reshape NumPy arrays (week 5)"
      ],
      "metadata": {
        "id": "ICG1ogrNmrq2"
      }
    },
    {
      "cell_type": "markdown",
      "metadata": {
        "id": "WbcxAKobvgUT"
      },
      "source": [
        "Another important operation is `reshape`, for changing the shape of an array"
      ]
    },
    {
      "cell_type": "code",
      "metadata": {
        "id": "4FPzTuDlvlLO",
        "colab": {
          "base_uri": "https://localhost:8080/",
          "height": 68
        },
        "outputId": "338648ec-11e3-436f-d0e4-6745f9cb30d3"
      },
      "source": [
        "my_array = np.array([1, 2, 3, 4, 5, 6])\n",
        "my_array.reshape(3, 2)"
      ],
      "execution_count": null,
      "outputs": [
        {
          "output_type": "execute_result",
          "data": {
            "text/plain": [
              "array([[1, 2],\n",
              "       [3, 4],\n",
              "       [5, 6]])"
            ]
          },
          "metadata": {
            "tags": []
          },
          "execution_count": 37
        }
      ]
    },
    {
      "cell_type": "markdown",
      "metadata": {
        "id": "G-QR80_g3N9Y"
      },
      "source": [
        "Play with these operations and make sure you understand them well."
      ]
    },
    {
      "cell_type": "markdown",
      "metadata": {
        "id": "f9B0iCBlmfeY"
      },
      "source": [
        "## Basic operations (week 5)"
      ]
    },
    {
      "cell_type": "markdown",
      "metadata": {
        "id": "elQGgkqDxKLV"
      },
      "source": [
        "In NumPy, we express computations directly over arrays. This makes the code much more succint."
      ]
    },
    {
      "cell_type": "markdown",
      "metadata": {
        "id": "hkCU1T8ixghX"
      },
      "source": [
        "Arithmetic operations can be performed directly over arrays. For instance, assuming two arrays have a compatible shape, we can add them as follows"
      ]
    },
    {
      "cell_type": "code",
      "metadata": {
        "id": "4AoiRq42x5mI",
        "colab": {
          "base_uri": "https://localhost:8080/",
          "height": 34
        },
        "outputId": "d9706493-95f8-43d5-af90-21a53c13cac5"
      },
      "source": [
        "array_a = np.array([1, 2, 3])\n",
        "array_b = np.array([4, 5, 6])\n",
        "array_a + array_b"
      ],
      "execution_count": null,
      "outputs": [
        {
          "output_type": "execute_result",
          "data": {
            "text/plain": [
              "array([5, 7, 9])"
            ]
          },
          "metadata": {
            "tags": []
          },
          "execution_count": 38
        }
      ]
    },
    {
      "cell_type": "markdown",
      "metadata": {
        "id": "SyPqME2EyD4x"
      },
      "source": [
        "Compare this with the equivalent computation using a for loop"
      ]
    },
    {
      "cell_type": "code",
      "metadata": {
        "id": "HxRFA_U2yfI-",
        "colab": {
          "base_uri": "https://localhost:8080/",
          "height": 34
        },
        "outputId": "cbd77fed-8b67-4119-aeea-7a71d92b63b6"
      },
      "source": [
        "array_out = np.zeros_like(array_a)\n",
        "for i in range(len(array_a)):\n",
        "  array_out[i] = array_a[i] + array_b[i]\n",
        "array_out"
      ],
      "execution_count": null,
      "outputs": [
        {
          "output_type": "execute_result",
          "data": {
            "text/plain": [
              "array([5, 7, 9])"
            ]
          },
          "metadata": {
            "tags": []
          },
          "execution_count": 65
        }
      ]
    },
    {
      "cell_type": "markdown",
      "metadata": {
        "id": "i2a-apX-zlPN"
      },
      "source": [
        "Not only this code is more verbose, it will also run much more slowly."
      ]
    },
    {
      "cell_type": "markdown",
      "metadata": {
        "id": "Qdn8MwpR0wX_"
      },
      "source": [
        "In NumPy, functions that operates on arrays in an element-wise fashion are called [universal functions](https://numpy.org/doc/stable/reference/ufuncs.html). For instance, this is the case of `np.sin`"
      ]
    },
    {
      "cell_type": "code",
      "metadata": {
        "id": "JoanjiMu1BH5",
        "colab": {
          "base_uri": "https://localhost:8080/",
          "height": 34
        },
        "outputId": "e6b8be44-7e66-4a3f-eb57-c767c7f8b2f3"
      },
      "source": [
        "np.sin(array_a)"
      ],
      "execution_count": null,
      "outputs": [
        {
          "output_type": "execute_result",
          "data": {
            "text/plain": [
              "array([0.84147098, 0.90929743, 0.14112001])"
            ]
          },
          "metadata": {
            "tags": []
          },
          "execution_count": 41
        }
      ]
    },
    {
      "cell_type": "markdown",
      "metadata": {
        "id": "jHljrPXg5h8W"
      },
      "source": [
        "Vector inner product can be performed using `np.dot`"
      ]
    },
    {
      "cell_type": "code",
      "metadata": {
        "id": "TphR8oIx5ob9",
        "colab": {
          "base_uri": "https://localhost:8080/",
          "height": 34
        },
        "outputId": "a84a8966-6b99-4a48-b422-caea4dd0ffc6"
      },
      "source": [
        "np.dot(array_a, array_b)"
      ],
      "execution_count": null,
      "outputs": [
        {
          "output_type": "execute_result",
          "data": {
            "text/plain": [
              "32"
            ]
          },
          "metadata": {
            "tags": []
          },
          "execution_count": 44
        }
      ]
    },
    {
      "cell_type": "markdown",
      "metadata": {
        "id": "lHInOiSW50OR"
      },
      "source": [
        "When the two arguments to `np.dot` are both 2d arrays, `np.dot` becomes matrix multiplication"
      ]
    },
    {
      "cell_type": "code",
      "metadata": {
        "id": "QRbpbhPP6Up0",
        "colab": {
          "base_uri": "https://localhost:8080/",
          "height": 102
        },
        "outputId": "d020a4d4-2532-495f-fd28-766fc92b3318"
      },
      "source": [
        "array_A = np.random.rand(5, 3)\n",
        "array_B = np.random.randn(3, 4)\n",
        "np.dot(array_A, array_B)"
      ],
      "execution_count": null,
      "outputs": [
        {
          "output_type": "execute_result",
          "data": {
            "text/plain": [
              "array([[-0.36045702, -0.81071381, -0.19270751,  1.68942764],\n",
              "       [-1.37444349, -3.05245084, -0.52466652, -0.02343348],\n",
              "       [-1.43277431, -2.95828896, -0.4035378 , -0.50852563],\n",
              "       [-0.8569399 , -0.99003545,  0.17051909,  1.02933425],\n",
              "       [-0.47198448, -1.52564526, -0.41890404, -1.29330023]])"
            ]
          },
          "metadata": {
            "tags": []
          },
          "execution_count": 45
        }
      ]
    },
    {
      "cell_type": "markdown",
      "metadata": {
        "id": "odVawD9m6gwv"
      },
      "source": [
        "Matrix transpose can be done using `.transpose()` or `.T` for short"
      ]
    },
    {
      "cell_type": "code",
      "metadata": {
        "id": "gvPe_JAO6mvF",
        "colab": {
          "base_uri": "https://localhost:8080/",
          "height": 68
        },
        "outputId": "4952000d-c255-4cd0-8b12-51bcb59ba53b"
      },
      "source": [
        "array_A.T"
      ],
      "execution_count": null,
      "outputs": [
        {
          "output_type": "execute_result",
          "data": {
            "text/plain": [
              "array([[0.83246658, 0.86545167, 0.62386601, 0.473339  , 0.06991272],\n",
              "       [0.02185012, 0.93435538, 0.93170156, 0.0036374 , 0.7230155 ],\n",
              "       [0.08128956, 0.83778882, 0.96709345, 0.66291745, 0.2734715 ]])"
            ]
          },
          "metadata": {
            "tags": []
          },
          "execution_count": 46
        }
      ]
    },
    {
      "cell_type": "markdown",
      "metadata": {
        "id": "JlWt3oFnE_E-"
      },
      "source": [
        "## Slicing and masking (optional)"
      ]
    },
    {
      "cell_type": "markdown",
      "metadata": {
        "id": "e4aKKe7bFA65"
      },
      "source": [
        "Like Python lists, NumPy arrays support slicing"
      ]
    },
    {
      "cell_type": "code",
      "metadata": {
        "id": "0kPhv2xcF1TP",
        "colab": {
          "base_uri": "https://localhost:8080/",
          "height": 34
        },
        "outputId": "a7315cac-0495-44da-e497-63aa677b8d47"
      },
      "source": [
        "np.arange(10)[5:]"
      ],
      "execution_count": null,
      "outputs": [
        {
          "output_type": "execute_result",
          "data": {
            "text/plain": [
              "array([5, 6, 7, 8, 9])"
            ]
          },
          "metadata": {
            "tags": []
          },
          "execution_count": 61
        }
      ]
    },
    {
      "cell_type": "markdown",
      "metadata": {
        "id": "ITu2Wy4-GB2G"
      },
      "source": [
        "We can also select only certain elements from the array"
      ]
    },
    {
      "cell_type": "code",
      "metadata": {
        "id": "8tlZzTB6GEyw",
        "colab": {
          "base_uri": "https://localhost:8080/",
          "height": 34
        },
        "outputId": "a2918cd3-f33b-48de-cd18-a3a8b1fb2fab"
      },
      "source": [
        "x = np.arange(10)\n",
        "mask = x >= 5\n",
        "x[mask]"
      ],
      "execution_count": null,
      "outputs": [
        {
          "output_type": "execute_result",
          "data": {
            "text/plain": [
              "array([5, 6, 7, 8, 9])"
            ]
          },
          "metadata": {
            "tags": []
          },
          "execution_count": 62
        }
      ]
    },
    {
      "cell_type": "markdown",
      "metadata": {
        "id": "NlGForCimjBL"
      },
      "source": [
        "## Exercises (week 5)"
      ]
    },
    {
      "cell_type": "markdown",
      "metadata": {
        "id": "Ur1UlSFPTu6O"
      },
      "source": [
        "**Exercise 1.** Create a 3d array of shape (2, 2, 2), containing 8 values. Access individual elements and slices."
      ]
    },
    {
      "cell_type": "code",
      "metadata": {
        "id": "v1ed4-vLUWXQ"
      },
      "source": [],
      "execution_count": null,
      "outputs": []
    },
    {
      "cell_type": "markdown",
      "metadata": {
        "id": "s_ksfCDJzyxI"
      },
      "source": [
        "**Exercise 2.** Rewrite the relu function (see Python section) using [np.maximum](https://numpy.org/doc/stable/reference/generated/numpy.maximum.html). Check that it works on both a single value and on an array of values."
      ]
    },
    {
      "cell_type": "code",
      "metadata": {
        "id": "QtSTxH5Dz6f8"
      },
      "source": [
        "def relu_numpy(x):\n",
        "  return\n",
        "\n",
        "relu_numpy(np.array([1, -3, 2.5]))"
      ],
      "execution_count": null,
      "outputs": []
    },
    {
      "cell_type": "markdown",
      "metadata": {
        "id": "wggUjpyRz7fb"
      },
      "source": [
        "**Exercise 3.** Rewrite the Euclidean norm of a vector (1d array) using NumPy (without for loop)"
      ]
    },
    {
      "cell_type": "code",
      "metadata": {
        "id": "p5BLcHOD0Bhy"
      },
      "source": [
        "def euclidean_norm_numpy(x):\n",
        "  return\n",
        "\n",
        "my_vector = np.array([0.5, -1.2, 3.3, 4.5])\n",
        "euclidean_norm_numpy(my_vector)"
      ],
      "execution_count": null,
      "outputs": []
    },
    {
      "cell_type": "markdown",
      "metadata": {
        "id": "01IteVJ60Il2"
      },
      "source": [
        "**Exercise 4.** Write a function that computes the Euclidean norms of a matrix (2d array) in a row-wise fashion. Hint: use the `axis` argument of [np.sum](https://numpy.org/doc/stable/reference/generated/numpy.sum.html)."
      ]
    },
    {
      "cell_type": "code",
      "metadata": {
        "id": "at5lWRNM0SVG"
      },
      "source": [
        "def euclidean_norm_2d(X):\n",
        "  return\n",
        "\n",
        "my_matrix = np.array([[0.5, -1.2, 4.5],\n",
        "                      [-3.2, 1.9, 2.7]])\n",
        "# Should return an array of size 2.\n",
        "euclidean_norm_2d(my_matrix)"
      ],
      "execution_count": null,
      "outputs": []
    },
    {
      "cell_type": "markdown",
      "metadata": {
        "id": "yd1ZoByo436x"
      },
      "source": [
        "**Exercise 5.** Compute the mean value of the features in the [iris dataset](https://scikit-learn.org/stable/modules/generated/sklearn.datasets.load_iris.html). Hint: use the `axis` argument on [np.mean](https://numpy.org/doc/stable/reference/generated/numpy.mean.html)."
      ]
    },
    {
      "cell_type": "code",
      "metadata": {
        "id": "fYFVobkP5JK6",
        "colab": {
          "base_uri": "https://localhost:8080/",
          "height": 34
        },
        "outputId": "91504ff7-ad59-4eb7-f940-cb2e068e1b6f"
      },
      "source": [
        "from sklearn.datasets import load_iris\n",
        "X, y = load_iris(return_X_y=True)\n",
        "\n",
        "# Result should be an array of size 4."
      ],
      "execution_count": null,
      "outputs": [
        {
          "output_type": "execute_result",
          "data": {
            "text/plain": [
              "(150, 4)"
            ]
          },
          "metadata": {
            "tags": []
          },
          "execution_count": 43
        }
      ]
    },
    {
      "cell_type": "markdown",
      "metadata": {
        "id": "1FDs9zX6mpoX"
      },
      "source": [
        "## Going further"
      ]
    },
    {
      "cell_type": "markdown",
      "metadata": {
        "id": "hFP61Iztmr9Q"
      },
      "source": [
        "* NumPy [reference](https://numpy.org/doc/stable/reference/)\n",
        "* SciPy [lectures](https://scipy-lectures.org/)\n",
        "*   One-hour [tutorial](https://www.youtube.com/watch?v=QUT1VHiLmmI) on Youtube\n",
        "\n"
      ]
    },
    {
      "cell_type": "markdown",
      "metadata": {
        "id": "7Jt6T3kJ8I2T"
      },
      "source": [
        "# Matplotlib (optional)"
      ]
    },
    {
      "cell_type": "markdown",
      "metadata": {
        "id": "kQX8TiEOALkQ"
      },
      "source": [
        "## Basic plots"
      ]
    },
    {
      "cell_type": "markdown",
      "metadata": {
        "id": "REYwc9Va8UTg"
      },
      "source": [
        "Matplotlib is a plotting library for Python."
      ]
    },
    {
      "cell_type": "markdown",
      "metadata": {
        "id": "Eom7t-m6-Uzb"
      },
      "source": [
        "We start with a rudimentary plotting example."
      ]
    },
    {
      "cell_type": "code",
      "metadata": {
        "id": "g21e5Ncm927z",
        "colab": {
          "base_uri": "https://localhost:8080/",
          "height": 295
        },
        "outputId": "0bffba14-376e-4274-a33a-04cc8ce6cd64"
      },
      "source": [
        "from matplotlib import pyplot as plt\n",
        "\n",
        "x_values = np.linspace(-3, 3, 100)\n",
        "\n",
        "plt.figure()\n",
        "plt.plot(x_values, np.sin(x_values), label=\"Sinusoid\")\n",
        "plt.xlabel(\"x\")\n",
        "plt.ylabel(\"sin(x)\")\n",
        "plt.title(\"Matplotlib example\")\n",
        "plt.legend(loc=\"upper left\")\n",
        "plt.show()"
      ],
      "execution_count": null,
      "outputs": [
        {
          "output_type": "display_data",
          "data": {
            "image/png": "[encoded data removed]",
            "text/plain": [
              "<Figure size 432x288 with 1 Axes>"
            ]
          },
          "metadata": {
            "tags": [],
            "needs_background": "light"
          }
        }
      ]
    },
    {
      "cell_type": "markdown",
      "metadata": {
        "id": "ltvlLwXF-eAH"
      },
      "source": [
        "We continue with a rudimentary scatter plot example. This example displays samples from the [iris dataset](https://scikit-learn.org/stable/modules/generated/sklearn.datasets.load_iris.html) using the first two features. Colors indicate class membership (there are 3 classes)."
      ]
    },
    {
      "cell_type": "code",
      "metadata": {
        "id": "sEzcJAmy-hbK",
        "colab": {
          "base_uri": "https://localhost:8080/",
          "height": 268
        },
        "outputId": "7d965d22-d0b6-41d5-9f80-f5d6a7d7f93f"
      },
      "source": [
        "from sklearn.datasets import load_iris\n",
        "X, y = load_iris(return_X_y=True)\n",
        "\n",
        "X_class0 = X[y == 0]\n",
        "X_class1 = X[y == 1]\n",
        "X_class2 = X[y == 2]\n",
        "\n",
        "plt.figure()\n",
        "plt.scatter(X_class0[:, 0], X_class0[:, 1], label=\"Class 0\", color=\"C0\")\n",
        "plt.scatter(X_class1[:, 0], X_class1[:, 1], label=\"Class 1\", color=\"C1\")\n",
        "plt.scatter(X_class2[:, 0], X_class2[:, 1], label=\"Class 2\", color=\"C2\")\n",
        "plt.show()"
      ],
      "execution_count": null,
      "outputs": [
        {
          "output_type": "display_data",
          "data": {
            "image/png": "[encoded data removed]",
            "text/plain": [
              "<Figure size 432x288 with 1 Axes>"
            ]
          },
          "metadata": {
            "tags": [],
            "needs_background": "light"
          }
        }
      ]
    },
    {
      "cell_type": "markdown",
      "metadata": {
        "id": "5vjln9qwAc3M"
      },
      "source": [
        "We see that samples belonging to class 0 can be linearly separated from the rest using only the first two features."
      ]
    },
    {
      "cell_type": "markdown",
      "metadata": {
        "id": "uVWuIUs2AQ5a"
      },
      "source": [
        "## Exercises\n",
        "\n"
      ]
    },
    {
      "cell_type": "markdown",
      "metadata": {
        "id": "1X6-g6zgCwJd"
      },
      "source": [
        "**Exercise 1.** Plot the relu and the [softplus](https://en.wikipedia.org/wiki/Rectifier_(neural_networks)#Softplus) functions on the same graph."
      ]
    },
    {
      "cell_type": "code",
      "metadata": {
        "id": "Ob6HZUX0DJ8y"
      },
      "source": [],
      "execution_count": null,
      "outputs": []
    },
    {
      "cell_type": "markdown",
      "metadata": {
        "id": "vpRGfz0aDW3l"
      },
      "source": [
        "What is the main difference between the two functions?"
      ]
    },
    {
      "cell_type": "markdown",
      "metadata": {
        "id": "JjDeIufRAYVL"
      },
      "source": [
        "**Exercise 2.** Repeat the same scatter plot but using the [digits dataset](https://scikit-learn.org/stable/modules/generated/sklearn.datasets.load_digits.html) instead."
      ]
    },
    {
      "cell_type": "code",
      "metadata": {
        "id": "-JU3TXCBBB0c"
      },
      "source": [
        "from sklearn.datasets import load_digits\n",
        "X, y = load_digits(return_X_y=True)"
      ],
      "execution_count": null,
      "outputs": []
    },
    {
      "cell_type": "markdown",
      "metadata": {
        "id": "w7wPWdmXBQA2"
      },
      "source": [
        "Are pixel values good features for classifying samples?"
      ]
    },
    {
      "cell_type": "markdown",
      "metadata": {
        "id": "dYM-oV1jD3RV"
      },
      "source": [
        "## Going further\n",
        "\n",
        "*  Official [tutorial](https://matplotlib.org/tutorials/introductory/pyplot.html)\n",
        "* [Tutorial](https://www.youtube.com/watch?v=qErBw-R2Ybk) on Youtube"
      ]
    }
  ]
}